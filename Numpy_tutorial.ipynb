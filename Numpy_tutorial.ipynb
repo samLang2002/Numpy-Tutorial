{
 "cells": [
  {
   "cell_type": "code",
   "execution_count": 1,
   "id": "d4ac5c68",
   "metadata": {},
   "outputs": [
    {
     "name": "stdout",
     "output_type": "stream",
     "text": [
      "Requirement already satisfied: numpy in c:\\users\\dell\\anaconda3\\lib\\site-packages (1.20.3)\n"
     ]
    }
   ],
   "source": [
    "#install numpy\n",
    "!pip install numpy\n",
    "import numpy as np"
   ]
  },
  {
   "cell_type": "code",
   "execution_count": 2,
   "id": "c4ffb240",
   "metadata": {},
   "outputs": [],
   "source": [
    "A=[1,2,3,\"a\",\"b\"]"
   ]
  },
  {
   "cell_type": "code",
   "execution_count": 3,
   "id": "fcf5d77d",
   "metadata": {},
   "outputs": [
    {
     "data": {
      "text/plain": [
       "list"
      ]
     },
     "execution_count": 3,
     "metadata": {},
     "output_type": "execute_result"
    }
   ],
   "source": [
    "type(A)"
   ]
  },
  {
   "cell_type": "code",
   "execution_count": 4,
   "id": "58d6100a",
   "metadata": {},
   "outputs": [],
   "source": [
    "a=[1,3]"
   ]
  },
  {
   "cell_type": "code",
   "execution_count": 5,
   "id": "2708bdab",
   "metadata": {},
   "outputs": [
    {
     "data": {
      "text/plain": [
       "list"
      ]
     },
     "execution_count": 5,
     "metadata": {},
     "output_type": "execute_result"
    }
   ],
   "source": [
    "type(a) #determining the datatype "
   ]
  },
  {
   "cell_type": "code",
   "execution_count": 6,
   "id": "7ccd952a",
   "metadata": {},
   "outputs": [],
   "source": [
    "#printing 10 floats of zeroes\n",
    "g=np.zeros(10)"
   ]
  },
  {
   "cell_type": "code",
   "execution_count": 7,
   "id": "08a0cae4",
   "metadata": {},
   "outputs": [
    {
     "data": {
      "text/plain": [
       "array([0., 0., 0., 0., 0., 0., 0., 0., 0., 0.])"
      ]
     },
     "execution_count": 7,
     "metadata": {},
     "output_type": "execute_result"
    }
   ],
   "source": [
    "g"
   ]
  },
  {
   "cell_type": "code",
   "execution_count": 8,
   "id": "e6c0bd19",
   "metadata": {},
   "outputs": [
    {
     "data": {
      "text/plain": [
       "array([0., 0., 0., 0., 0.])"
      ]
     },
     "execution_count": 8,
     "metadata": {},
     "output_type": "execute_result"
    }
   ],
   "source": [
    "m=np.zeros(5)\n",
    "m"
   ]
  },
  {
   "cell_type": "code",
   "execution_count": 9,
   "id": "7d1b9b3a",
   "metadata": {},
   "outputs": [
    {
     "data": {
      "text/plain": [
       "array([[0., 0., 0., 0.],\n",
       "       [0., 0., 0., 0.],\n",
       "       [0., 0., 0., 0.]])"
      ]
     },
     "execution_count": 9,
     "metadata": {},
     "output_type": "execute_result"
    }
   ],
   "source": [
    "#3 rows/arrays with 4 elements\n",
    "q=np.zeros((3,4))\n",
    "q"
   ]
  },
  {
   "cell_type": "code",
   "execution_count": 10,
   "id": "e327eeec",
   "metadata": {},
   "outputs": [
    {
     "data": {
      "text/plain": [
       "(3, 4)"
      ]
     },
     "execution_count": 10,
     "metadata": {},
     "output_type": "execute_result"
    }
   ],
   "source": [
    "#print out the length\n",
    "q.shape"
   ]
  },
  {
   "cell_type": "code",
   "execution_count": 11,
   "id": "0d40122a",
   "metadata": {},
   "outputs": [
    {
     "data": {
      "text/plain": [
       "numpy.ndarray"
      ]
     },
     "execution_count": 11,
     "metadata": {},
     "output_type": "execute_result"
    }
   ],
   "source": [
    "#finding the type of array\n",
    "type(q)"
   ]
  },
  {
   "cell_type": "code",
   "execution_count": 13,
   "id": "6b3d9990",
   "metadata": {},
   "outputs": [
    {
     "data": {
      "text/plain": [
       "array([[0.],\n",
       "       [0.],\n",
       "       [0.],\n",
       "       [0.],\n",
       "       [0.],\n",
       "       [0.],\n",
       "       [0.],\n",
       "       [0.],\n",
       "       [0.],\n",
       "       [0.]])"
      ]
     },
     "execution_count": 13,
     "metadata": {},
     "output_type": "execute_result"
    }
   ],
   "source": [
    "#print out 10 zeros with an element\n",
    "g.shape=(10,1)\n",
    "g"
   ]
  },
  {
   "cell_type": "code",
   "execution_count": 15,
   "id": "21a750e0",
   "metadata": {},
   "outputs": [
    {
     "data": {
      "text/plain": [
       "(10, 1)"
      ]
     },
     "execution_count": 15,
     "metadata": {},
     "output_type": "execute_result"
    }
   ],
   "source": [
    "#printing out the length of g\n",
    "g.shape"
   ]
  },
  {
   "cell_type": "code",
   "execution_count": 16,
   "id": "becd9f66",
   "metadata": {},
   "outputs": [
    {
     "data": {
      "text/plain": [
       "array([1., 1., 1., 1., 1.])"
      ]
     },
     "execution_count": 16,
     "metadata": {},
     "output_type": "execute_result"
    }
   ],
   "source": [
    "#printing out the elements in ones five times\n",
    "z=np.ones(5)\n",
    "z"
   ]
  },
  {
   "cell_type": "code",
   "execution_count": 17,
   "id": "5534e8cf",
   "metadata": {},
   "outputs": [
    {
     "data": {
      "text/plain": [
       "numpy.float64"
      ]
     },
     "execution_count": 17,
     "metadata": {},
     "output_type": "execute_result"
    }
   ],
   "source": [
    "type(z[1]) #finding the datatype of an element of an array"
   ]
  },
  {
   "cell_type": "code",
   "execution_count": 18,
   "id": "20461364",
   "metadata": {},
   "outputs": [
    {
     "data": {
      "text/plain": [
       "array([[1., 1., 1., 1.],\n",
       "       [1., 1., 1., 1.],\n",
       "       [1., 1., 1., 1.]])"
      ]
     },
     "execution_count": 18,
     "metadata": {},
     "output_type": "execute_result"
    }
   ],
   "source": [
    "np.ones((3,4))"
   ]
  },
  {
   "cell_type": "code",
   "execution_count": 19,
   "id": "fe46754f",
   "metadata": {},
   "outputs": [
    {
     "data": {
      "text/plain": [
       "array([ 1.31073208e-311,  0.00000000e+000, -4.94065646e-324])"
      ]
     },
     "execution_count": 19,
     "metadata": {},
     "output_type": "execute_result"
    }
   ],
   "source": [
    "l=np.empty(3)\n",
    "l"
   ]
  },
  {
   "cell_type": "code",
   "execution_count": 20,
   "id": "9b30f6d0",
   "metadata": {},
   "outputs": [
    {
     "data": {
      "text/plain": [
       "array([1., 1., 1., 1., 1., 1., 1., 1., 1., 1., 1., 1.])"
      ]
     },
     "execution_count": 20,
     "metadata": {},
     "output_type": "execute_result"
    }
   ],
   "source": [
    "l=np.empty(12)\n",
    "l"
   ]
  },
  {
   "cell_type": "code",
   "execution_count": 21,
   "id": "965b84b9",
   "metadata": {},
   "outputs": [
    {
     "data": {
      "text/plain": [
       "array([1, 2, 3])"
      ]
     },
     "execution_count": 21,
     "metadata": {},
     "output_type": "execute_result"
    }
   ],
   "source": [
    "#creating a one dimensional array with a list\n",
    "np.array([1,2,3])"
   ]
  },
  {
   "cell_type": "code",
   "execution_count": 24,
   "id": "ea3a7fe1",
   "metadata": {},
   "outputs": [
    {
     "data": {
      "text/plain": [
       "array([[1, 2, 3, 4]])"
      ]
     },
     "execution_count": 24,
     "metadata": {},
     "output_type": "execute_result"
    }
   ],
   "source": [
    "#making a list into an array\n",
    "l=[1,2,3,4]\n",
    "r=np.array([l])\n",
    "r"
   ]
  },
  {
   "cell_type": "code",
   "execution_count": 42,
   "id": "252c3f08",
   "metadata": {},
   "outputs": [
    {
     "data": {
      "text/plain": [
       "list"
      ]
     },
     "execution_count": 42,
     "metadata": {},
     "output_type": "execute_result"
    }
   ],
   "source": [
    "type(l)"
   ]
  },
  {
   "cell_type": "code",
   "execution_count": 25,
   "id": "137acbe8",
   "metadata": {},
   "outputs": [
    {
     "data": {
      "text/plain": [
       "numpy.ndarray"
      ]
     },
     "execution_count": 25,
     "metadata": {},
     "output_type": "execute_result"
    }
   ],
   "source": [
    "type(r)"
   ]
  },
  {
   "cell_type": "code",
   "execution_count": 26,
   "id": "f5337415",
   "metadata": {},
   "outputs": [
    {
     "name": "stdout",
     "output_type": "stream",
     "text": [
      "[1 2 3]\n"
     ]
    }
   ],
   "source": [
    "#storing in a variable\n",
    "y=np.array([1,2,3])\n",
    "print(y)"
   ]
  },
  {
   "cell_type": "code",
   "execution_count": 27,
   "id": "cdca2f53",
   "metadata": {},
   "outputs": [
    {
     "name": "stdout",
     "output_type": "stream",
     "text": [
      "['A' 'B' 'C']\n"
     ]
    }
   ],
   "source": [
    "#storing in a variable with strings as an array\n",
    "s=np.array([\"A\",\"B\",\"C\"])\n",
    "print(s)"
   ]
  },
  {
   "cell_type": "code",
   "execution_count": 28,
   "id": "8dd7b41b",
   "metadata": {},
   "outputs": [
    {
     "data": {
      "text/plain": [
       "numpy.ndarray"
      ]
     },
     "execution_count": 28,
     "metadata": {},
     "output_type": "execute_result"
    }
   ],
   "source": [
    "type(s)"
   ]
  },
  {
   "cell_type": "markdown",
   "id": "637c9c20",
   "metadata": {},
   "source": [
    "# Dimensions and Operators Exercise"
   ]
  },
  {
   "cell_type": "code",
   "execution_count": 29,
   "id": "e61458d1",
   "metadata": {},
   "outputs": [
    {
     "name": "stdout",
     "output_type": "stream",
     "text": [
      "[1 2 3]\n",
      "1\n"
     ]
    }
   ],
   "source": [
    "#checking the dimensions of a\n",
    "a=np.array([1,2,3])\n",
    "print(a)\n",
    "print(a.ndim) #snippet for dimension"
   ]
  },
  {
   "cell_type": "code",
   "execution_count": 31,
   "id": "f4d293b8",
   "metadata": {},
   "outputs": [
    {
     "name": "stdout",
     "output_type": "stream",
     "text": [
      "[[1 2 3]\n",
      " [1 2 3]]\n"
     ]
    }
   ],
   "source": [
    "#creating a 2d array\n",
    "d=np.array([(1,2,3),(1,2,3)])\n",
    "print(d)"
   ]
  },
  {
   "cell_type": "code",
   "execution_count": 32,
   "id": "50c4a9e9",
   "metadata": {},
   "outputs": [
    {
     "name": "stdout",
     "output_type": "stream",
     "text": [
      "2\n"
     ]
    }
   ],
   "source": [
    "#cheack the dimension type(2d)\n",
    "print(d.ndim)"
   ]
  },
  {
   "cell_type": "code",
   "execution_count": 33,
   "id": "d89b8662",
   "metadata": {},
   "outputs": [
    {
     "name": "stdout",
     "output_type": "stream",
     "text": [
      "3\n"
     ]
    }
   ],
   "source": [
    "p=np.array([[(1,2,3),(4,5,6)]]) #for 3d array\n",
    "print(p.ndim)"
   ]
  },
  {
   "cell_type": "code",
   "execution_count": 34,
   "id": "d799bf52",
   "metadata": {},
   "outputs": [
    {
     "data": {
      "text/plain": [
       "array([[[1, 2, 3],\n",
       "        [4, 5, 6]]])"
      ]
     },
     "execution_count": 34,
     "metadata": {},
     "output_type": "execute_result"
    }
   ],
   "source": [
    "p"
   ]
  },
  {
   "cell_type": "code",
   "execution_count": 37,
   "id": "ef63489a",
   "metadata": {},
   "outputs": [
    {
     "data": {
      "text/plain": [
       "array([[[1, 2, 3]],\n",
       "\n",
       "       [[4, 5, 6]],\n",
       "\n",
       "       [[7, 8, 9]]])"
      ]
     },
     "execution_count": 37,
     "metadata": {},
     "output_type": "execute_result"
    }
   ],
   "source": [
    "t=np.array([[(1,2,3)],[(4,5,6)],[(7,8,9)]])\n",
    "t"
   ]
  },
  {
   "cell_type": "code",
   "execution_count": 38,
   "id": "7c5e4474",
   "metadata": {},
   "outputs": [
    {
     "name": "stdout",
     "output_type": "stream",
     "text": [
      "3\n"
     ]
    }
   ],
   "source": [
    "print(t.ndim)"
   ]
  },
  {
   "cell_type": "code",
   "execution_count": 39,
   "id": "68b80661",
   "metadata": {},
   "outputs": [],
   "source": [
    "#the question mark with a shift and tab key gives as documentation\n",
    "?p"
   ]
  },
  {
   "cell_type": "code",
   "execution_count": 40,
   "id": "7f0543ff",
   "metadata": {},
   "outputs": [],
   "source": [
    "#the question mark with a shift and tab key gives as documentation of the purticular parameter\n",
    "?p.shape"
   ]
  },
  {
   "cell_type": "code",
   "execution_count": 41,
   "id": "6f460432",
   "metadata": {},
   "outputs": [
    {
     "data": {
      "text/plain": [
       "array([[[ True,  True,  True],\n",
       "        [ True, False, False]]])"
      ]
     },
     "execution_count": 41,
     "metadata": {},
     "output_type": "execute_result"
    }
   ],
   "source": [
    "#the variable p less than 5. Print a boolean\n",
    "p<5"
   ]
  },
  {
   "cell_type": "code",
   "execution_count": 43,
   "id": "e0023d96",
   "metadata": {},
   "outputs": [
    {
     "data": {
      "text/plain": [
       "array([[[False, False,  True],\n",
       "        [ True,  True,  True]]])"
      ]
     },
     "execution_count": 43,
     "metadata": {},
     "output_type": "execute_result"
    }
   ],
   "source": [
    "#the variable p greater than 2 . Print a boolean\n",
    "p>2"
   ]
  },
  {
   "cell_type": "code",
   "execution_count": 44,
   "id": "a172dd58",
   "metadata": {},
   "outputs": [
    {
     "data": {
      "text/plain": [
       "array([[[False, False,  True],\n",
       "        [False, False, False]]])"
      ]
     },
     "execution_count": 44,
     "metadata": {},
     "output_type": "execute_result"
    }
   ],
   "source": [
    "#the variable p equals to 3. Print a boolean\n",
    "p==3"
   ]
  },
  {
   "cell_type": "code",
   "execution_count": 45,
   "id": "19419825",
   "metadata": {},
   "outputs": [
    {
     "data": {
      "text/plain": [
       "array([[[ True,  True, False],\n",
       "        [ True,  True,  True]]])"
      ]
     },
     "execution_count": 45,
     "metadata": {},
     "output_type": "execute_result"
    }
   ],
   "source": [
    "#the variable p not equals to 3. Print a boolean\n",
    "p!=3"
   ]
  },
  {
   "cell_type": "markdown",
   "id": "993d197c",
   "metadata": {},
   "source": [
    "# Byte , Type and size"
   ]
  },
  {
   "cell_type": "code",
   "execution_count": 46,
   "id": "50fc1f27",
   "metadata": {},
   "outputs": [
    {
     "name": "stdout",
     "output_type": "stream",
     "text": [
      "4\n"
     ]
    }
   ],
   "source": [
    "#check the byte size of each element\n",
    "n=np.array([1,2,3])\n",
    "print(n.itemsize)"
   ]
  },
  {
   "cell_type": "code",
   "execution_count": 47,
   "id": "ab40329e",
   "metadata": {},
   "outputs": [
    {
     "name": "stdout",
     "output_type": "stream",
     "text": [
      "int32\n"
     ]
    }
   ],
   "source": [
    "print(n.dtype)"
   ]
  },
  {
   "cell_type": "code",
   "execution_count": 48,
   "id": "678d48c8",
   "metadata": {},
   "outputs": [
    {
     "name": "stdout",
     "output_type": "stream",
     "text": [
      "3\n"
     ]
    }
   ],
   "source": [
    "print(len(n))"
   ]
  },
  {
   "cell_type": "code",
   "execution_count": 49,
   "id": "9d3731f1",
   "metadata": {},
   "outputs": [
    {
     "name": "stdout",
     "output_type": "stream",
     "text": [
      "int32\n"
     ]
    }
   ],
   "source": [
    "#check the datatype\n",
    "q=np.array([1,2,3])\n",
    "print(q.dtype)"
   ]
  },
  {
   "cell_type": "code",
   "execution_count": 50,
   "id": "80ac1f36",
   "metadata": {},
   "outputs": [
    {
     "name": "stdout",
     "output_type": "stream",
     "text": [
      "4\n"
     ]
    }
   ],
   "source": [
    "#check the length of elements\n",
    "w=np.array([1,2,3,4])\n",
    "print(w.size)"
   ]
  },
  {
   "cell_type": "markdown",
   "id": "b1facbdd",
   "metadata": {},
   "source": [
    "# Range argument of np.arrange()"
   ]
  },
  {
   "cell_type": "code",
   "execution_count": 51,
   "id": "321ab909",
   "metadata": {},
   "outputs": [],
   "source": [
    "#this works with arrays with parameters:start,stop and step.You have to pass atleast one of the parameters.the default value of step is 1 if no value is provided."
   ]
  },
  {
   "cell_type": "code",
   "execution_count": 52,
   "id": "5f5da8c1",
   "metadata": {},
   "outputs": [
    {
     "data": {
      "text/plain": [
       "array([1, 4, 7])"
      ]
     },
     "execution_count": 52,
     "metadata": {},
     "output_type": "execute_result"
    }
   ],
   "source": [
    "#this prints elements from 1 to 10 in the step of 3\n",
    "np.arange(start=1,stop=10,step=3)"
   ]
  },
  {
   "cell_type": "code",
   "execution_count": 53,
   "id": "26d62899",
   "metadata": {},
   "outputs": [
    {
     "data": {
      "text/plain": [
       "array([1, 4, 7])"
      ]
     },
     "execution_count": 53,
     "metadata": {},
     "output_type": "execute_result"
    }
   ],
   "source": [
    "np.arange(1,10,3)"
   ]
  },
  {
   "cell_type": "code",
   "execution_count": 54,
   "id": "1a3dbdb5",
   "metadata": {},
   "outputs": [
    {
     "data": {
      "text/plain": [
       "array([10, 15, 20, 25])"
      ]
     },
     "execution_count": 54,
     "metadata": {},
     "output_type": "execute_result"
    }
   ],
   "source": [
    "np.arange(10,30,5)"
   ]
  },
  {
   "cell_type": "code",
   "execution_count": 55,
   "id": "b5eb9c9d",
   "metadata": {},
   "outputs": [
    {
     "data": {
      "text/plain": [
       "array([0, 1, 2, 3, 4, 5, 6, 7, 8, 9])"
      ]
     },
     "execution_count": 55,
     "metadata": {},
     "output_type": "execute_result"
    }
   ],
   "source": [
    "#print from 0 to 10\n",
    "np.arange(0,10)"
   ]
  },
  {
   "cell_type": "markdown",
   "id": "d04f3743",
   "metadata": {},
   "source": [
    "# Shape and Reshaping"
   ]
  },
  {
   "cell_type": "code",
   "execution_count": 56,
   "id": "df80aada",
   "metadata": {},
   "outputs": [
    {
     "name": "stdout",
     "output_type": "stream",
     "text": [
      "(2, 4)\n"
     ]
    }
   ],
   "source": [
    "u=np.array([(1,2,3,7),(5,9,7,20)])\n",
    "print(u.shape)"
   ]
  },
  {
   "cell_type": "code",
   "execution_count": 57,
   "id": "ee13fb48",
   "metadata": {},
   "outputs": [
    {
     "name": "stdout",
     "output_type": "stream",
     "text": [
      "(2, 3)\n"
     ]
    }
   ],
   "source": [
    "#check the shape(array(2) and elements(3))\n",
    "y=np.array([(1,2,4),(1,6,3)])\n",
    "print(y.shape)"
   ]
  },
  {
   "cell_type": "code",
   "execution_count": 58,
   "id": "6561ac81",
   "metadata": {},
   "outputs": [
    {
     "data": {
      "text/plain": [
       "array([[1, 2, 4],\n",
       "       [1, 6, 3]])"
      ]
     },
     "execution_count": 58,
     "metadata": {},
     "output_type": "execute_result"
    }
   ],
   "source": [
    "y"
   ]
  },
  {
   "cell_type": "code",
   "execution_count": 59,
   "id": "b0a015ea",
   "metadata": {},
   "outputs": [
    {
     "data": {
      "text/plain": [
       "2"
      ]
     },
     "execution_count": 59,
     "metadata": {},
     "output_type": "execute_result"
    }
   ],
   "source": [
    "y.ndim"
   ]
  },
  {
   "cell_type": "code",
   "execution_count": 60,
   "id": "155e66d2",
   "metadata": {},
   "outputs": [
    {
     "data": {
      "text/plain": [
       "array([[ 1,  2,  3],\n",
       "       [ 4,  5,  6],\n",
       "       [ 7,  8,  9],\n",
       "       [10, 11, 12]])"
      ]
     },
     "execution_count": 60,
     "metadata": {},
     "output_type": "execute_result"
    }
   ],
   "source": [
    "#reshaping from 1d to 2d;4 arrays with 3 elements\n",
    "b=np.array([1,2,3,4,5,6,7,8,9,10,11,12])\n",
    "g=b.reshape(4,3)\n",
    "g"
   ]
  },
  {
   "cell_type": "code",
   "execution_count": 61,
   "id": "a4f1321c",
   "metadata": {},
   "outputs": [
    {
     "data": {
      "text/plain": [
       "array([1, 2, 3, 3, 5, 4])"
      ]
     },
     "execution_count": 61,
     "metadata": {},
     "output_type": "execute_result"
    }
   ],
   "source": [
    "#convert to 1d array\n",
    "b=np.array([[1,2,3],[3,5,4]])\n",
    "z=b.reshape(-1)\n",
    "z"
   ]
  },
  {
   "cell_type": "code",
   "execution_count": 63,
   "id": "f3039cca",
   "metadata": {},
   "outputs": [
    {
     "name": "stdout",
     "output_type": "stream",
     "text": [
      "[1 2 3 3 5 4]\n"
     ]
    }
   ],
   "source": [
    "#print all in a line\n",
    "b=np.array([[1,2,3],[3,5,4]])\n",
    "print(b.ravel())"
   ]
  },
  {
   "cell_type": "code",
   "execution_count": 85,
   "id": "68690126",
   "metadata": {},
   "outputs": [
    {
     "data": {
      "text/plain": [
       "array([[ 0,  1,  2],\n",
       "       [ 3,  4,  5],\n",
       "       [ 6,  7,  8],\n",
       "       [ 9, 10, 11]])"
      ]
     },
     "execution_count": 85,
     "metadata": {},
     "output_type": "execute_result"
    }
   ],
   "source": [
    "#this prints elements from 0 to 11,4 arrays with each having 3 elements\n",
    "b=np.arange(12).reshape(4,3)\n",
    "b\n"
   ]
  },
  {
   "cell_type": "code",
   "execution_count": 65,
   "id": "0ea71cb6",
   "metadata": {},
   "outputs": [],
   "source": [
    "#this prints from 0 to 14,3 arrays with each having 5 elements\n",
    "a=np.arange(15).reshape(3,5)"
   ]
  },
  {
   "cell_type": "code",
   "execution_count": 66,
   "id": "f5d97012",
   "metadata": {},
   "outputs": [
    {
     "data": {
      "text/plain": [
       "array([[ 0,  1,  2,  3,  4],\n",
       "       [ 5,  6,  7,  8,  9],\n",
       "       [10, 11, 12, 13, 14]])"
      ]
     },
     "execution_count": 66,
     "metadata": {},
     "output_type": "execute_result"
    }
   ],
   "source": [
    "a"
   ]
  },
  {
   "cell_type": "code",
   "execution_count": 67,
   "id": "4b0d0938",
   "metadata": {},
   "outputs": [
    {
     "name": "stdout",
     "output_type": "stream",
     "text": [
      "[[1 2 3 5]\n",
      " [2 4 5 5]]\n",
      "[[1 2]\n",
      " [3 5]\n",
      " [2 4]\n",
      " [5 5]]\n"
     ]
    }
   ],
   "source": [
    "#reshape converting 2 rows , 4 elements to 4 rows, 2 elements\n",
    "p=np.array([(1,2,3,5),(2,4,5,5)])\n",
    "print(p)\n",
    "p=p.reshape(4,2)\n",
    "print(p)"
   ]
  },
  {
   "cell_type": "markdown",
   "id": "cce3cf8c",
   "metadata": {},
   "source": [
    "# slicing\n"
   ]
  },
  {
   "cell_type": "code",
   "execution_count": 68,
   "id": "d5804dcf",
   "metadata": {},
   "outputs": [],
   "source": [
    "#this print element at zero index"
   ]
  },
  {
   "cell_type": "code",
   "execution_count": 69,
   "id": "6833870a",
   "metadata": {},
   "outputs": [
    {
     "name": "stdout",
     "output_type": "stream",
     "text": [
      "1\n"
     ]
    }
   ],
   "source": [
    "n=np.array([1,2,3,4,19,6,7])\n",
    "print(n[0])"
   ]
  },
  {
   "cell_type": "code",
   "execution_count": 70,
   "id": "1f00fd90",
   "metadata": {},
   "outputs": [
    {
     "name": "stdout",
     "output_type": "stream",
     "text": [
      "[ 2  3  4 19]\n"
     ]
    }
   ],
   "source": [
    "#this print element from 0 to 4th index excluding the 5th index\n",
    "print(n[1:5])"
   ]
  },
  {
   "cell_type": "code",
   "execution_count": 71,
   "id": "628025b8",
   "metadata": {},
   "outputs": [
    {
     "name": "stdout",
     "output_type": "stream",
     "text": [
      "[1 2]\n"
     ]
    }
   ],
   "source": [
    "print(n[0:2])"
   ]
  },
  {
   "cell_type": "code",
   "execution_count": 72,
   "id": "b559bee1",
   "metadata": {},
   "outputs": [
    {
     "name": "stdout",
     "output_type": "stream",
     "text": [
      "[ 1  2  3  4 19  6  7]\n"
     ]
    }
   ],
   "source": [
    "print(n[:])"
   ]
  },
  {
   "cell_type": "code",
   "execution_count": 73,
   "id": "38222eb2",
   "metadata": {},
   "outputs": [
    {
     "name": "stdout",
     "output_type": "stream",
     "text": [
      "7\n"
     ]
    }
   ],
   "source": [
    "#printing the last element\n",
    "print(n[-1])"
   ]
  },
  {
   "cell_type": "code",
   "execution_count": 74,
   "id": "07912477",
   "metadata": {},
   "outputs": [
    {
     "name": "stdout",
     "output_type": "stream",
     "text": [
      "[19  6  7]\n"
     ]
    }
   ],
   "source": [
    "#printing elements from the 4th element to the end\n",
    "print(n[4:])"
   ]
  },
  {
   "cell_type": "code",
   "execution_count": 75,
   "id": "072480d3",
   "metadata": {},
   "outputs": [
    {
     "name": "stdout",
     "output_type": "stream",
     "text": [
      "[1 2 3 4]\n"
     ]
    }
   ],
   "source": [
    "#printing the first 4 elements\n",
    "print(n[:4])"
   ]
  },
  {
   "cell_type": "markdown",
   "id": "f3b9a564",
   "metadata": {},
   "source": [
    "# Sum , max,min and linspace"
   ]
  },
  {
   "cell_type": "code",
   "execution_count": 76,
   "id": "c85c3952",
   "metadata": {},
   "outputs": [
    {
     "data": {
      "text/plain": [
       "array([1. , 1.5, 2. , 2.5, 3. ])"
      ]
     },
     "execution_count": 76,
     "metadata": {},
     "output_type": "execute_result"
    }
   ],
   "source": [
    "#printing 5 values from 1 to 3\n",
    "b=np.linspace(1,3,5)\n",
    "b"
   ]
  },
  {
   "cell_type": "code",
   "execution_count": 77,
   "id": "ba3429ab",
   "metadata": {},
   "outputs": [
    {
     "data": {
      "text/plain": [
       "array([ 2.,  4.,  6.,  8., 10.])"
      ]
     },
     "execution_count": 77,
     "metadata": {},
     "output_type": "execute_result"
    }
   ],
   "source": [
    "#printing 5 values from 2 to 10\n",
    "y=np.linspace(2,10,5)\n",
    "y"
   ]
  },
  {
   "cell_type": "code",
   "execution_count": 78,
   "id": "2ce894b5",
   "metadata": {},
   "outputs": [
    {
     "data": {
      "text/plain": [
       "10.0"
      ]
     },
     "execution_count": 78,
     "metadata": {},
     "output_type": "execute_result"
    }
   ],
   "source": [
    "#printing the maximum number in  an array\n",
    "m=max(y)\n",
    "m"
   ]
  },
  {
   "cell_type": "code",
   "execution_count": 79,
   "id": "cae6c7c9",
   "metadata": {},
   "outputs": [
    {
     "data": {
      "text/plain": [
       "2.0"
      ]
     },
     "execution_count": 79,
     "metadata": {},
     "output_type": "execute_result"
    }
   ],
   "source": [
    "#printing the minimum number in an array\n",
    "mi=min(y)\n",
    "mi"
   ]
  },
  {
   "cell_type": "code",
   "execution_count": 80,
   "id": "3c45fb7b",
   "metadata": {},
   "outputs": [
    {
     "data": {
      "text/plain": [
       "30.0"
      ]
     },
     "execution_count": 80,
     "metadata": {},
     "output_type": "execute_result"
    }
   ],
   "source": [
    "#sum of elements\n",
    "s=sum(y)\n",
    "s"
   ]
  },
  {
   "cell_type": "markdown",
   "id": "f29af180",
   "metadata": {},
   "source": [
    "# Random functions"
   ]
  },
  {
   "cell_type": "code",
   "execution_count": 81,
   "id": "38c500b5",
   "metadata": {},
   "outputs": [],
   "source": [
    "from numpy import random"
   ]
  },
  {
   "cell_type": "code",
   "execution_count": 86,
   "id": "c3421a68",
   "metadata": {},
   "outputs": [
    {
     "data": {
      "text/plain": [
       "10"
      ]
     },
     "execution_count": 86,
     "metadata": {},
     "output_type": "execute_result"
    }
   ],
   "source": [
    "#generate ramdom integers from 0 to 30\n",
    "x=random.randint(50)\n",
    "x"
   ]
  },
  {
   "cell_type": "code",
   "execution_count": 89,
   "id": "c1032fb2",
   "metadata": {},
   "outputs": [
    {
     "data": {
      "text/plain": [
       "5"
      ]
     },
     "execution_count": 89,
     "metadata": {},
     "output_type": "execute_result"
    }
   ],
   "source": [
    "m=random.randint(6)\n",
    "m"
   ]
  },
  {
   "cell_type": "code",
   "execution_count": 90,
   "id": "84a8093c",
   "metadata": {},
   "outputs": [
    {
     "name": "stdout",
     "output_type": "stream",
     "text": [
      "0.7737459381609207\n"
     ]
    }
   ],
   "source": [
    "#generate random float between 0-1\n",
    "x=random.rand()\n",
    "print(x)"
   ]
  },
  {
   "cell_type": "code",
   "execution_count": 91,
   "id": "9359bc6c",
   "metadata": {},
   "outputs": [
    {
     "name": "stdout",
     "output_type": "stream",
     "text": [
      "[0.56630278 0.80420876 0.23620976 0.35670037 0.27359329 0.15870351\n",
      " 0.82913563 0.67148058 0.10636664 0.38986069]\n"
     ]
    }
   ],
   "source": [
    "#generate a 1d array of 10 1d elements\n",
    "y=random.rand(10)\n",
    "print(y)"
   ]
  },
  {
   "cell_type": "code",
   "execution_count": 92,
   "id": "a676af7c",
   "metadata": {},
   "outputs": [
    {
     "name": "stdout",
     "output_type": "stream",
     "text": [
      "[[0.14760721 0.97417443 0.25354811 0.49778923]\n",
      " [0.25778838 0.76025985 0.07503078 0.97126493]\n",
      " [0.7368615  0.25630668 0.64998741 0.92226275]]\n"
     ]
    }
   ],
   "source": [
    "#generate a random array with 3 rows and 4 columns\n",
    "y1=random.rand(3,4)\n",
    "print(y1)"
   ]
  },
  {
   "cell_type": "code",
   "execution_count": 93,
   "id": "4ef3422d",
   "metadata": {},
   "outputs": [],
   "source": [
    "#generate 10 random numbers from 0-100 \n",
    "n=random.randint(100,size=10)"
   ]
  },
  {
   "cell_type": "code",
   "execution_count": 94,
   "id": "e3c6d64d",
   "metadata": {},
   "outputs": [
    {
     "data": {
      "text/plain": [
       "array([26, 73, 95, 13, 12, 14, 97, 44, 82, 86])"
      ]
     },
     "execution_count": 94,
     "metadata": {},
     "output_type": "execute_result"
    }
   ],
   "source": [
    "n"
   ]
  },
  {
   "cell_type": "code",
   "execution_count": 95,
   "id": "4e5ec17f",
   "metadata": {},
   "outputs": [
    {
     "data": {
      "text/plain": [
       "1"
      ]
     },
     "execution_count": 95,
     "metadata": {},
     "output_type": "execute_result"
    }
   ],
   "source": [
    "n.ndim"
   ]
  },
  {
   "cell_type": "code",
   "execution_count": 96,
   "id": "cad126ef",
   "metadata": {},
   "outputs": [],
   "source": [
    "#select a value from an array\n",
    "e=random.choice([7,3,10,9])"
   ]
  },
  {
   "cell_type": "code",
   "execution_count": 97,
   "id": "964e68f0",
   "metadata": {},
   "outputs": [
    {
     "data": {
      "text/plain": [
       "3"
      ]
     },
     "execution_count": 97,
     "metadata": {},
     "output_type": "execute_result"
    }
   ],
   "source": [
    "e"
   ]
  },
  {
   "cell_type": "code",
   "execution_count": 98,
   "id": "4fce34d0",
   "metadata": {},
   "outputs": [
    {
     "data": {
      "text/plain": [
       "array([[5, 5, 9, 9],\n",
       "       [5, 3, 3, 7],\n",
       "       [7, 9, 7, 9]])"
      ]
     },
     "execution_count": 98,
     "metadata": {},
     "output_type": "execute_result"
    }
   ],
   "source": [
    "#generate a 2d array with 3 rows and 4 columns, to each row picking from the listed values\n",
    "a=random.choice([3,5,7,9],size=(3,4))\n",
    "a"
   ]
  },
  {
   "cell_type": "markdown",
   "id": "cf28b116",
   "metadata": {},
   "source": [
    "# Axis=AXIS 1=ROWS and AXIS 0=COLUMNS"
   ]
  },
  {
   "cell_type": "code",
   "execution_count": 99,
   "id": "e9c96a7f",
   "metadata": {},
   "outputs": [
    {
     "name": "stdout",
     "output_type": "stream",
     "text": [
      "[ 6 15]\n"
     ]
    }
   ],
   "source": [
    "#this sums the row\n",
    "a=np.array([(1,2,3),(4,5,6)])\n",
    "print(a.sum(axis=1))"
   ]
  },
  {
   "cell_type": "code",
   "execution_count": 100,
   "id": "2ab66cf9",
   "metadata": {},
   "outputs": [
    {
     "data": {
      "text/plain": [
       "array([[1, 2, 3],\n",
       "       [4, 5, 6]])"
      ]
     },
     "execution_count": 100,
     "metadata": {},
     "output_type": "execute_result"
    }
   ],
   "source": [
    "a"
   ]
  },
  {
   "cell_type": "code",
   "execution_count": 101,
   "id": "c8fe71ac",
   "metadata": {},
   "outputs": [
    {
     "name": "stdout",
     "output_type": "stream",
     "text": [
      "[5 7 9]\n"
     ]
    }
   ],
   "source": [
    "#this sums the columns\n",
    "a=np.array([(1,2,3),(4,5,6)])\n",
    "print(a.sum(axis=0))"
   ]
  },
  {
   "cell_type": "markdown",
   "id": "4ec7445e",
   "metadata": {},
   "source": [
    "# Stacking"
   ]
  },
  {
   "cell_type": "code",
   "execution_count": 104,
   "id": "fafff966",
   "metadata": {},
   "outputs": [
    {
     "name": "stdout",
     "output_type": "stream",
     "text": [
      "[[1 2 3]\n",
      " [4 5 6]\n",
      " [1 2 3]\n",
      " [1 2 3]]\n"
     ]
    }
   ],
   "source": [
    "#vertical stacking\n",
    "a=np.array([(1,2,3),(4,5,6)])\n",
    "b=np.array([(1,2,3),(1,2,3)])\n",
    "print(np.vstack((a,b)))"
   ]
  },
  {
   "cell_type": "code",
   "execution_count": 105,
   "id": "6b22c9a7",
   "metadata": {},
   "outputs": [
    {
     "name": "stdout",
     "output_type": "stream",
     "text": [
      "[[1 2 3 1 2 3]\n",
      " [4 5 6 1 2 3]]\n"
     ]
    }
   ],
   "source": [
    "#horizontal stacking\n",
    "a=np.array([(1,2,3),(4,5,6)])\n",
    "b=np.array([(1,2,3),(1,2,3)])\n",
    "print(np.hstack((a,b)))"
   ]
  },
  {
   "cell_type": "markdown",
   "id": "9870b2f6",
   "metadata": {},
   "source": [
    "---"
   ]
  },
  {
   "cell_type": "code",
   "execution_count": 2,
   "id": "534837e3",
   "metadata": {},
   "outputs": [
    {
     "data": {
      "text/plain": [
       "array([[1, 2, 3],\n",
       "       [4, 5, 6],\n",
       "       [7, 8, 9]])"
      ]
     },
     "execution_count": 2,
     "metadata": {},
     "output_type": "execute_result"
    }
   ],
   "source": [
    "import numpy as np\n",
    "a=np.array([[1,2,3],[4,5,6],[7,8,9]])\n",
    "a"
   ]
  },
  {
   "cell_type": "code",
   "execution_count": 3,
   "id": "5b7c4b12",
   "metadata": {},
   "outputs": [
    {
     "data": {
      "text/plain": [
       "array([[6]])"
      ]
     },
     "execution_count": 3,
     "metadata": {},
     "output_type": "execute_result"
    }
   ],
   "source": [
    "a[1:2,2:3]"
   ]
  },
  {
   "cell_type": "code",
   "execution_count": 4,
   "id": "7b795be8",
   "metadata": {},
   "outputs": [
    {
     "data": {
      "text/plain": [
       "6"
      ]
     },
     "execution_count": 4,
     "metadata": {},
     "output_type": "execute_result"
    }
   ],
   "source": [
    "a[1,2]"
   ]
  },
  {
   "cell_type": "code",
   "execution_count": null,
   "id": "75068b17",
   "metadata": {},
   "outputs": [],
   "source": []
  }
 ],
 "metadata": {
  "kernelspec": {
   "display_name": "Python 3 (ipykernel)",
   "language": "python",
   "name": "python3"
  },
  "language_info": {
   "codemirror_mode": {
    "name": "ipython",
    "version": 3
   },
   "file_extension": ".py",
   "mimetype": "text/x-python",
   "name": "python",
   "nbconvert_exporter": "python",
   "pygments_lexer": "ipython3",
   "version": "3.9.7"
  }
 },
 "nbformat": 4,
 "nbformat_minor": 5
}
